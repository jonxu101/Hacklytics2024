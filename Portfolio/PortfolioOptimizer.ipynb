{
 "cells": [
  {
   "cell_type": "code",
   "execution_count": 2,
   "metadata": {},
   "outputs": [],
   "source": [
    "import pandas as pd\n",
    "import numpy as np\n",
    "import matplotlib.pyplot as plt\n",
    "import scipy.optimize as opt\n",
    "\n",
    "col_names = ['Name', 'Risk', 'Return']"
   ]
  },
  {
   "cell_type": "code",
   "execution_count": 3,
   "metadata": {},
   "outputs": [
    {
     "data": {
      "image/png": "[encoded data removed]",
      "text/plain": [
       "<Figure size 640x480 with 1 Axes>"
      ]
     },
     "metadata": {},
     "output_type": "display_data"
    },
    {
     "data": {
      "image/png": "[encoded data removed]",
      "text/plain": [
       "<Figure size 640x480 with 1 Axes>"
      ]
     },
     "metadata": {},
     "output_type": "display_data"
    }
   ],
   "source": [
    "#cell to generate random data\n",
    "rand_data = []\n",
    "num_pts = 100\n",
    "\n",
    "mean = 10 # average log normal return\n",
    "returns_noise = 0.5 # log normal returns\n",
    "\n",
    "for i in range(num_pts):\n",
    "    risk = np.max(1 / (mean + np.random.normal()), 0)\n",
    "    rand_data.append([\"Disease \" + str(i), risk, np.exp(np.log(mean) + returns_noise * np.random.normal())])\n",
    "    \n",
    "rand_data_df = pd.DataFrame(rand_data, columns = col_names)\n",
    "rand_data_df.to_csv(\"./riskreturn.csv\", index=False)\n",
    "\n",
    "plt.figure()\n",
    "plt.hist(rand_data_df['Risk'].tolist(), bins = 30)\n",
    "plt.show()\n",
    "\n",
    "plt.figure()\n",
    "plt.hist(rand_data_df['Return'].tolist(), bins = 100)\n",
    "plt.show()\n"
   ]
  },
  {
   "cell_type": "code",
   "execution_count": 4,
   "metadata": {},
   "outputs": [
    {
     "name": "stdout",
     "output_type": "stream",
     "text": [
      "          Name      Risk     Return\n",
      "0    Disease 0  0.095016  15.525749\n",
      "1    Disease 1  0.081263   8.305768\n",
      "2    Disease 2  0.092433   7.007052\n",
      "3    Disease 3  0.091488  17.618339\n",
      "4    Disease 4  0.093744  19.576720\n",
      "..         ...       ...        ...\n",
      "95  Disease 95  0.098914  15.472117\n",
      "96  Disease 96  0.113189  15.373128\n",
      "97  Disease 97  0.101216   7.088422\n",
      "98  Disease 98  0.107545  12.654736\n",
      "99  Disease 99  0.091478   5.900957\n",
      "\n",
      "[100 rows x 3 columns]\n"
     ]
    }
   ],
   "source": [
    "data = pd.read_csv('./riskreturn.csv')\n",
    "\n",
    "print(data)"
   ]
  },
  {
   "cell_type": "code",
   "execution_count": 5,
   "metadata": {},
   "outputs": [],
   "source": [
    "n = len(data)\n",
    "CovarRisk = np.array([[(data['Risk'][i]**2 if i == j else 0) for i in range(n)] for j in range(n)])\n",
    "MeanReturns = data['Return'].tolist()\n",
    "\n",
    "def MaximizeReturns(data, PortfolioSize): #optimize with no risk\n",
    "    c = np.multiply(-1, data['Return'].tolist())\n",
    "    A = np.ones([PortfolioSize, 1]).T\n",
    "    b = [1]\n",
    "    weights = opt.linprog(c, A_ub = A, b_ub = b, bounds = (0,1))\n",
    "    return weights.x\n",
    "\n",
    "def MinimizeReturns(data, size):\n",
    "    def f(x):\n",
    "        func = np.matmul(np.matmul(x, CovarRisk), x.T) \n",
    "        return func\n",
    "\n",
    "    def constraintEq(x):\n",
    "        A=np.ones(x.shape)\n",
    "        b=1\n",
    "        constraintVal = np.matmul(A,x.T)-b \n",
    "        return constraintVal\n",
    "    \n",
    "    xinit=np.repeat(0.1, size)\n",
    "    cons = ({'type': 'eq', 'fun':constraintEq})\n",
    "    lb = 0\n",
    "    ub = 1\n",
    "    bnds = tuple([(lb,ub) for x in xinit])\n",
    "\n",
    "    weights = opt.minimize (f, x0 = xinit,  bounds = bnds, \\\n",
    "                             constraints = cons, tol = 10**-3)\n",
    "    \n",
    "    return weights.x\n",
    "    \n",
    "def MeanVar(data, size, R):    \n",
    "    def f(x, CovarRisk):\n",
    "        return np.matmul(np.matmul(x, CovarRisk), x.T) \n",
    "\n",
    "    def constraintEq(x):\n",
    "        AEq=np.ones(x.shape)\n",
    "        bEq=1\n",
    "        EqconstraintVal = np.matmul(AEq,x.T)-bEq \n",
    "        return EqconstraintVal\n",
    "    \n",
    "    def constraintIneq(x, MeanReturns, R):\n",
    "        AIneq = np.array(MeanReturns)\n",
    "        bIneq = R\n",
    "        IneqconstraintVal = np.matmul(AIneq, x.T) - bIneq\n",
    "        return IneqconstraintVal\n",
    "    \n",
    "\n",
    "    xinit=np.repeat(0.1, size)\n",
    "    cons = ({'type': 'eq', 'fun':constraintEq},\n",
    "            {'type':'ineq', 'fun':constraintIneq, 'args':(MeanReturns,R) })\n",
    "    lb = 0\n",
    "    ub = 1\n",
    "    bnds = tuple([(lb,ub) for x in xinit])\n",
    "\n",
    "    res = opt.minimize (f, args = (CovarRisk), method ='trust-constr', x0 = xinit, bounds = bnds, constraints = cons)\n",
    "    \n",
    "    # if res.success == False:\n",
    "    #     print(\"OPTIMIZE FAIL\") \n",
    "    # else:\n",
    "    #     print(\"OPTIMIZE SUCCESS\") \n",
    "    return res.x\n",
    "\n",
    "# print(MeanVar(data, 10, 10))"
   ]
  },
  {
   "cell_type": "code",
   "execution_count": 9,
   "metadata": {},
   "outputs": [
    {
     "name": "stdout",
     "output_type": "stream",
     "text": [
      "10.694073199390841\n",
      "24.871829638896504\n"
     ]
    },
    {
     "name": "stderr",
     "output_type": "stream",
     "text": [
      "c:\\Users\\Jonathan\\AppData\\Local\\Programs\\Python\\Python311\\Lib\\site-packages\\scipy\\optimize\\_hessian_update_strategy.py:182: UserWarning: delta_grad == 0.0. Check if the approximated function is linear. If the function is linear better results can be obtained by defining the Hessian as zero instead of using quasi-Newton approximations.\n",
      "  warn('delta_grad == 0.0. Check if the approximated '\n"
     ]
    }
   ],
   "source": [
    "def ComputeReturns(data, weights):\n",
    "    return np.matmul(np.array(data['Return'].tolist()), weights.T)\n",
    "\n",
    "def ComputeRisk(weights, n):\n",
    "    return np.sqrt(np.matmul(np.matmul(weights, CovarRisk), weights.T)) / np.sqrt(n)\n",
    "\n",
    "n = len(data)\n",
    "incr = 1\n",
    "min = ComputeReturns(data, MinimizeReturns(data, n))\n",
    "max = ComputeReturns(data, MaximizeReturns(data, n))\n",
    "\n",
    "print(min)\n",
    "print(max)\n",
    "\n",
    "frontier_risk = []\n",
    "frontier_return = []\n",
    "\n",
    "R = min # target return\n",
    "while R < max:\n",
    "    res = MeanVar(data, n, R)\n",
    "    frontier_risk.append(ComputeRisk(res, n))\n",
    "    frontier_return.append(R)\n",
    "    R += incr\n",
    "    # print(R)"
   ]
  },
  {
   "cell_type": "code",
   "execution_count": 10,
   "metadata": {},
   "outputs": [
    {
     "data": {
      "text/plain": [
       "Text(0, 0.5, 'Expected Return (%)')"
      ]
     },
     "execution_count": 10,
     "metadata": {},
     "output_type": "execute_result"
    },
    {
     "data": {
      "image/png": "[encoded data removed]",
      "text/plain": [
       "<Figure size 640x480 with 1 Axes>"
      ]
     },
     "metadata": {},
     "output_type": "display_data"
    }
   ],
   "source": [
    "#plot results\n",
    "plt.figure()\n",
    "plt.plot(np.array(frontier_risk) * 100, frontier_return, color='orange')\n",
    "plt.scatter(np.array(frontier_risk) * 100, frontier_return, s=10, color='orange')\n",
    "plt.xlabel(\"Risk (%)\")\n",
    "plt.ylabel(\"Expected Return (%)\")"
   ]
  },
  {
   "cell_type": "code",
   "execution_count": 12,
   "metadata": {},
   "outputs": [
    {
     "name": "stdout",
     "output_type": "stream",
     "text": [
      "0.032\n",
      "0.1\n",
      "0.033\n",
      "0.034\n",
      "0.035\n",
      "0.036000000000000004\n",
      "0.037000000000000005\n",
      "0.038000000000000006\n",
      "0.03900000000000001\n",
      "0.04000000000000001\n",
      "0.04100000000000001\n",
      "0.04200000000000001\n",
      "0.04300000000000001\n",
      "0.04400000000000001\n",
      "0.04500000000000001\n",
      "0.04600000000000001\n",
      "0.047000000000000014\n",
      "0.048000000000000015\n",
      "0.049000000000000016\n",
      "0.05000000000000002\n",
      "0.05100000000000002\n",
      "0.05200000000000002\n",
      "0.05300000000000002\n",
      "0.05400000000000002\n",
      "0.05500000000000002\n",
      "0.05600000000000002\n",
      "0.05700000000000002\n",
      "0.058000000000000024\n",
      "0.059000000000000025\n",
      "0.060000000000000026\n",
      "0.061000000000000026\n",
      "0.06200000000000003\n",
      "0.06300000000000003\n",
      "0.06400000000000003\n",
      "0.06500000000000003\n",
      "0.06600000000000003\n",
      "0.06700000000000003\n",
      "0.06800000000000003\n",
      "0.06900000000000003\n",
      "0.07000000000000003\n",
      "0.07100000000000004\n",
      "0.07200000000000004\n",
      "0.07300000000000004\n",
      "0.07400000000000004\n",
      "0.07500000000000004\n",
      "0.07600000000000004\n",
      "0.07700000000000004\n",
      "0.07800000000000004\n",
      "0.07900000000000004\n",
      "0.08000000000000004\n",
      "0.08100000000000004\n",
      "0.08200000000000005\n",
      "0.08300000000000005\n",
      "0.08400000000000005\n",
      "0.08500000000000005\n",
      "0.08600000000000005\n",
      "0.08700000000000005\n",
      "0.08800000000000005\n",
      "0.08900000000000005\n",
      "0.09000000000000005\n",
      "0.09100000000000005\n",
      "0.09200000000000005\n",
      "0.09300000000000005\n",
      "0.09400000000000006\n",
      "0.09500000000000006\n",
      "0.09600000000000006\n",
      "0.09700000000000006\n",
      "0.09800000000000006\n",
      "0.09900000000000006\n",
      "0.10000000000000006\n"
     ]
    },
    {
     "data": {
      "text/plain": [
       "Text(0, 0.5, 'Expected Return (%)')"
      ]
     },
     "execution_count": 12,
     "metadata": {},
     "output_type": "execute_result"
    },
    {
     "data": {
      "image/png": "[encoded data removed]",
      "text/plain": [
       "<Figure size 640x480 with 1 Axes>"
      ]
     },
     "metadata": {},
     "output_type": "display_data"
    }
   ],
   "source": [
    "from pypfopt.efficient_frontier import EfficientFrontier\n",
    "import pypfopt.objective_functions as objective_functions\n",
    "\n",
    "expected_returns = data['Return']\n",
    "cov_matrix = np.array([[(data['Risk'][i]**2 if i == j else 0) for i in range(n)] for j in range(n)])\n",
    "\n",
    "ef = EfficientFrontier(expected_returns, cov_matrix)\n",
    "ef.add_objective(objective_functions.L2_reg)\n",
    "weights = ef.efficient_risk(0.04)\n",
    "n = len(data)\n",
    "incr = 0.001\n",
    "min = 0.032\n",
    "max = 0.1\n",
    "\n",
    "print(min)\n",
    "print(max)\n",
    "\n",
    "frontier_risk = []\n",
    "frontier_return = []\n",
    "\n",
    "R = min # risk tolerance\n",
    "while R < max:\n",
    "    res = ef.efficient_risk(R)\n",
    "    res = np.array([i[1] for i in res.items()])\n",
    "    R += incr\n",
    "    frontier_risk.append(R)\n",
    "    frontier_return.append(ComputeReturns(data, res))\n",
    "    print(R)\n",
    "    \n",
    "plt.figure()\n",
    "plt.scatter(frontier_risk, frontier_return)\n",
    "plt.xlabel(\"Risk (%)\")\n",
    "plt.ylabel(\"Expected Return (%)\")"
   ]
  }
 ],
 "metadata": {
  "kernelspec": {
   "display_name": "Python 3",
   "language": "python",
   "name": "python3"
  },
  "language_info": {
   "codemirror_mode": {
    "name": "ipython",
    "version": 3
   },
   "file_extension": ".py",
   "mimetype": "text/x-python",
   "name": "python",
   "nbconvert_exporter": "python",
   "pygments_lexer": "ipython3",
   "version": "3.11.2"
  }
 },
 "nbformat": 4,
 "nbformat_minor": 2
}
