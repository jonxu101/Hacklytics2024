{
 "cells": [
  {
   "cell_type": "code",
   "execution_count": null,
   "metadata": {},
   "outputs": [
    {
     "ename": "",
     "evalue": "",
     "output_type": "error",
     "traceback": [
      "\u001b[1;31mRunning cells with 'c:\\msys64\\ucrt64\\bin\\python.exe' requires the ipykernel package.\n",
      "\u001b[1;31mRun the following command to install 'ipykernel' into the Python environment. \n",
      "\u001b[1;31mCommand: 'c:/msys64/ucrt64/bin/python.exe -m pip install ipykernel -U --user --force-reinstall'"
     ]
    }
   ],
   "source": [
    "import pandas as pd\n",
    "import numpy as np\n",
    "import matplotlib.pyplot as plt\n",
    "import scipy.optimize as opt\n",
    "\n",
    "col_names = ['Name', 'Risk', 'Return']"
   ]
  },
  {
   "cell_type": "code",
   "execution_count": null,
   "metadata": {},
   "outputs": [
    {
     "ename": "",
     "evalue": "",
     "output_type": "error",
     "traceback": [
      "\u001b[1;31mRunning cells with 'c:\\msys64\\ucrt64\\bin\\python.exe' requires the ipykernel package.\n",
      "\u001b[1;31mRun the following command to install 'ipykernel' into the Python environment. \n",
      "\u001b[1;31mCommand: 'c:/msys64/ucrt64/bin/python.exe -m pip install ipykernel -U --user --force-reinstall'"
     ]
    }
   ],
   "source": [
    "#cell to generate random data\n",
    "rand_data = []\n",
    "num_pts = 100\n",
    "\n",
    "mean = 10 # average log normal return\n",
    "returns_noise = 0.5 # log normal returns\n",
    "\n",
    "for i in range(num_pts):\n",
    "    risk = np.max(1 / (mean + np.random.normal()), 0)\n",
    "    rand_data.append([\"Disease \" + str(i), risk, np.exp(np.log(mean) + returns_noise * np.random.normal())])\n",
    "    \n",
    "rand_data_df = pd.DataFrame(rand_data, columns = col_names)\n",
    "rand_data_df.to_csv(\"./riskreturn.csv\", index=False)\n",
    "\n",
    "plt.figure()\n",
    "plt.hist(rand_data_df['Risk'].tolist(), bins = 30)\n",
    "plt.show()\n",
    "\n",
    "plt.figure()\n",
    "plt.hist(rand_data_df['Return'].tolist(), bins = 100)\n",
    "plt.show()\n"
   ]
  },
  {
   "cell_type": "code",
   "execution_count": null,
   "metadata": {},
   "outputs": [
    {
     "ename": "",
     "evalue": "",
     "output_type": "error",
     "traceback": [
      "\u001b[1;31mRunning cells with 'c:\\msys64\\ucrt64\\bin\\python.exe' requires the ipykernel package.\n",
      "\u001b[1;31mRun the following command to install 'ipykernel' into the Python environment. \n",
      "\u001b[1;31mCommand: 'c:/msys64/ucrt64/bin/python.exe -m pip install ipykernel -U --user --force-reinstall'"
     ]
    }
   ],
   "source": [
    "data = pd.read_csv('./riskreturn.csv')\n",
    "\n",
    "print(data)"
   ]
  },
  {
   "cell_type": "code",
   "execution_count": null,
   "metadata": {},
   "outputs": [
    {
     "ename": "",
     "evalue": "",
     "output_type": "error",
     "traceback": [
      "\u001b[1;31mRunning cells with 'c:\\msys64\\ucrt64\\bin\\python.exe' requires the ipykernel package.\n",
      "\u001b[1;31mRun the following command to install 'ipykernel' into the Python environment. \n",
      "\u001b[1;31mCommand: 'c:/msys64/ucrt64/bin/python.exe -m pip install ipykernel -U --user --force-reinstall'"
     ]
    }
   ],
   "source": [
    "n = len(data)\n",
    "CovarRisk = np.array([[(data['Risk'][i]**2 if i == j else 0) for i in range(n)] for j in range(n)])\n",
    "MeanReturns = data['Return'].tolist()\n",
    "\n",
    "def MaximizeReturns(data, PortfolioSize): #optimize with no risk\n",
    "    c = np.multiply(-1, data['Return'].tolist())\n",
    "    A = np.ones([PortfolioSize, 1]).T\n",
    "    b = [1]\n",
    "    weights = opt.linprog(c, A_ub = A, b_ub = b, bounds = (0,1))\n",
    "    return weights.x\n",
    "\n",
    "def MinimizeReturns(data, size):\n",
    "    def f(x):\n",
    "        func = np.matmul(np.matmul(x, CovarRisk), x.T) \n",
    "        return func\n",
    "\n",
    "    def constraintEq(x):\n",
    "        A=np.ones(x.shape)\n",
    "        b=1\n",
    "        constraintVal = np.matmul(A,x.T)-b \n",
    "        return constraintVal\n",
    "    \n",
    "    xinit=np.repeat(0.1, size)\n",
    "    cons = ({'type': 'eq', 'fun':constraintEq})\n",
    "    lb = 0\n",
    "    ub = 1\n",
    "    bnds = tuple([(lb,ub) for x in xinit])\n",
    "\n",
    "    weights = opt.minimize (f, x0 = xinit,  bounds = bnds, \\\n",
    "                             constraints = cons, tol = 10**-3)\n",
    "    \n",
    "    return weights.x\n",
    "    \n",
    "def MeanVar(data, size, R):    \n",
    "    def f(x, CovarRisk):\n",
    "        return np.matmul(np.matmul(x, CovarRisk), x.T) \n",
    "\n",
    "    def constraintEq(x):\n",
    "        AEq=np.ones(x.shape)\n",
    "        bEq=1\n",
    "        EqconstraintVal = np.matmul(AEq,x.T)-bEq \n",
    "        return EqconstraintVal\n",
    "    \n",
    "    def constraintIneq(x, MeanReturns, R):\n",
    "        AIneq = np.array(MeanReturns)\n",
    "        bIneq = R\n",
    "        IneqconstraintVal = np.matmul(AIneq, x.T) - bIneq\n",
    "        return IneqconstraintVal\n",
    "    \n",
    "\n",
    "    xinit=np.repeat(0.1, size)\n",
    "    cons = ({'type': 'eq', 'fun':constraintEq},\n",
    "            {'type':'ineq', 'fun':constraintIneq, 'args':(MeanReturns,R) })\n",
    "    lb = 0\n",
    "    ub = 1\n",
    "    bnds = tuple([(lb,ub) for x in xinit])\n",
    "\n",
    "    res = opt.minimize (f, args = (CovarRisk), method ='trust-constr', x0 = xinit, bounds = bnds, constraints = cons)\n",
    "    \n",
    "    # if res.success == False:\n",
    "    #     print(\"OPTIMIZE FAIL\") \n",
    "    # else:\n",
    "    #     print(\"OPTIMIZE SUCCESS\") \n",
    "    return res.x\n",
    "\n",
    "# print(MeanVar(data, 10, 10))"
   ]
  },
  {
   "cell_type": "code",
   "execution_count": null,
   "metadata": {},
   "outputs": [
    {
     "ename": "",
     "evalue": "",
     "output_type": "error",
     "traceback": [
      "\u001b[1;31mRunning cells with 'c:\\msys64\\ucrt64\\bin\\python.exe' requires the ipykernel package.\n",
      "\u001b[1;31mRun the following command to install 'ipykernel' into the Python environment. \n",
      "\u001b[1;31mCommand: 'c:/msys64/ucrt64/bin/python.exe -m pip install ipykernel -U --user --force-reinstall'"
     ]
    }
   ],
   "source": [
    "def ComputeReturns(data, weights):\n",
    "    return np.matmul(np.array(data['Return'].tolist()), weights.T)\n",
    "\n",
    "def ComputeRisk(weights, n):\n",
    "    return np.sqrt(np.matmul(np.matmul(weights, CovarRisk), weights.T)) / np.sqrt(n)\n",
    "\n",
    "n = len(data)\n",
    "incr = 1\n",
    "min = ComputeReturns(data, MinimizeReturns(data, n))\n",
    "max = ComputeReturns(data, MaximizeReturns(data, n))\n",
    "\n",
    "print(min)\n",
    "print(max)\n",
    "\n",
    "frontier_risk = []\n",
    "frontier_return = []\n",
    "\n",
    "R = min # target return\n",
    "while R < max:\n",
    "    res = MeanVar(data, n, R)\n",
    "    frontier_risk.append(ComputeRisk(res, n))\n",
    "    frontier_return.append(R)\n",
    "    R += incr\n",
    "    # print(R)"
   ]
  },
  {
   "cell_type": "code",
   "execution_count": null,
   "metadata": {},
   "outputs": [
    {
     "ename": "",
     "evalue": "",
     "output_type": "error",
     "traceback": [
      "\u001b[1;31mRunning cells with 'c:\\msys64\\ucrt64\\bin\\python.exe' requires the ipykernel package.\n",
      "\u001b[1;31mRun the following command to install 'ipykernel' into the Python environment. \n",
      "\u001b[1;31mCommand: 'c:/msys64/ucrt64/bin/python.exe -m pip install ipykernel -U --user --force-reinstall'"
     ]
    }
   ],
   "source": [
    "#plot results\n",
    "plt.figure()\n",
    "plt.plot(np.array(frontier_risk) * 100, frontier_return, color='orange')\n",
    "plt.scatter(np.array(frontier_risk) * 100, frontier_return, s=10, color='orange')\n",
    "plt.xlabel(\"Risk (%)\")\n",
    "plt.ylabel(\"Expected Return (%)\")"
   ]
  },
  {
   "cell_type": "code",
   "execution_count": null,
   "metadata": {},
   "outputs": [
    {
     "ename": "",
     "evalue": "",
     "output_type": "error",
     "traceback": [
      "\u001b[1;31mRunning cells with 'c:\\msys64\\ucrt64\\bin\\python.exe' requires the ipykernel package.\n",
      "\u001b[1;31mRun the following command to install 'ipykernel' into the Python environment. \n",
      "\u001b[1;31mCommand: 'c:/msys64/ucrt64/bin/python.exe -m pip install ipykernel -U --user --force-reinstall'"
     ]
    }
   ],
   "source": [
    "from pypfopt.efficient_frontier import EfficientFrontier\n",
    "import pypfopt.objective_functions as objective_functions\n",
    "\n",
    "expected_returns = data['Return']\n",
    "cov_matrix = np.array([[(data['Risk'][i]**2 if i == j else 0) for i in range(n)] for j in range(n)])\n",
    "\n",
    "ef = EfficientFrontier(expected_returns, cov_matrix)\n",
    "ef.add_objective(objective_functions.L2_reg)\n",
    "weights = ef.efficient_risk(0.04)\n",
    "n = len(data)\n",
    "incr = 0.001\n",
    "min = 0.032\n",
    "max = 0.1\n",
    "\n",
    "print(min)\n",
    "print(max)\n",
    "\n",
    "frontier_risk = []\n",
    "frontier_return = []\n",
    "frontier_weights = []\n",
    "R = min # risk tolerance\n",
    "while R < max:\n",
    "    res = ef.efficient_risk(R)\n",
    "    res = np.array([i[1] for i in res.items()])\n",
    "    R += incr\n",
    "    frontier_risk.append(R)\n",
    "    frontier_return.append(ComputeReturns(data, res))\n",
    "    frontier_weights.append(res)\n",
    "    \n",
    "plt.figure()\n",
    "plt.scatter(frontier_risk, frontier_return)\n",
    "plt.xlabel(\"Risk (%)\")\n",
    "plt.ylabel(\"Expected Return (%)\")\n",
    "\n",
    "output_data = pd.DataFrame(zip(frontier_risk,frontier_return, frontier_weights)).to_csv(\"./efficient_frontier.csv\")"
   ]
  }
 ],
 "metadata": {
  "kernelspec": {
   "display_name": "Python 3",
   "language": "python",
   "name": "python3"
  },
  "language_info": {
   "codemirror_mode": {
    "name": "ipython",
    "version": 3
   },
   "file_extension": ".py",
   "mimetype": "text/x-python",
   "name": "python",
   "nbconvert_exporter": "python",
   "pygments_lexer": "ipython3",
   "version": "3.11.6"
  }
 },
 "nbformat": 4,
 "nbformat_minor": 2
}
